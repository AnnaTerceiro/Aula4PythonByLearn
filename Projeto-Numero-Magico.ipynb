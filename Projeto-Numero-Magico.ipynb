{
 "cells": [
  {
   "cell_type": "markdown",
   "id": "e7a006c5",
   "metadata": {},
   "source": [
    "# Desafio 4.1 - Número mágico\n",
    "\n",
    "Um mágico pede para alguém da plateia pensar num número de um a cinco.\n",
    "Você escolhe (define) o numero.\n",
    "Você pedirá para o mágico escolher o número que você pensou (receber input).\n",
    "\n",
    "Se o valor do mágico for menor que o seu número você irá dizer para o mágico aumentar o valor do chute.\n",
    "Se o valor do mágico for maior que o seu número você irá dizer para o mágico diminuir o valor do chute.\n",
    "Se o valor do mágico for igual ao seu número você irá dizer para o mágico que ele acertou."
   ]
  },
  {
   "cell_type": "code",
   "execution_count": null,
   "id": "e98d6056",
   "metadata": {},
   "outputs": [],
   "source": [
    "def main():\n",
    "    numero_escolhido = 3\n",
    "    numero_magico = int(input(\"Valor escolhido pelo mágico\"))\n",
    "    \n",
    "    if numero_magico > numero_escolhido:\n",
    "        print(\"Diminua o chute\")  \n",
    "    elif numero_magico < numero_escolhido:\n",
    "        print(\"Aumente o chute\")\n",
    "    else:\n",
    "        print(\"Você acertou\")\n",
    "\n",
    "main()"
   ]
  }
 ],
 "metadata": {
  "kernelspec": {
   "display_name": "Python 3",
   "language": "python",
   "name": "python3"
  },
  "language_info": {
   "codemirror_mode": {
    "name": "ipython",
    "version": 3
   },
   "file_extension": ".py",
   "mimetype": "text/x-python",
   "name": "python",
   "nbconvert_exporter": "python",
   "pygments_lexer": "ipython3",
   "version": "3.8.8"
  }
 },
 "nbformat": 4,
 "nbformat_minor": 5
}
