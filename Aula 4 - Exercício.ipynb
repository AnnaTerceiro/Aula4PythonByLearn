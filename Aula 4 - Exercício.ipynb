{
 "cells": [
  {
   "cell_type": "markdown",
   "id": "229942a9",
   "metadata": {},
   "source": [
    "## Exercício Aula 4 Python ByLearn\n",
    "Operadores Lógicos - if e else\n",
    "\n",
    "Um mágico pede para alguém da plateia pensar num número de um a cinco.  \n",
    "Você escolhe (define) o numero.  \n",
    "Você pedirá para o mágico escolher o número que você pensou (receber input).  \n",
    "\n",
    "Se o valor do mágico for menor que o seu número você irá dizer para o mágico aumentar o valor do chute.  \n",
    "Se o valor do mágico for maior que o seu número você irá dizer para o mágico diminuir o valor do chute.  \n",
    "Se o valor do mágico for igual ao seu número você irá dizer para o mágico que ele acertou. "
   ]
  },
  {
   "cell_type": "code",
   "execution_count": null,
   "id": "9cc66a88",
   "metadata": {},
   "outputs": [],
   "source": [
    "def main():\n",
    "    #meu número é 4\n",
    "    chute_do_magico = int(input(\"Qual o número que eu pensei? \"))\n",
    "    \n",
    "    if chute_do_magico > 4:\n",
    "        print(\"Você chutou muito alto, diminua sua aposta\")\n",
    "    elif chute_do_magico < 4:\n",
    "        print(\"Você chutou muito baixo, diminua sua aposta\")\n",
    "    else:\n",
    "        print(\"Você acertou!\")\n",
    "\n",
    "main()"
   ]
  },
  {
   "cell_type": "code",
   "execution_count": 9,
   "id": "88712210",
   "metadata": {},
   "outputs": [
    {
     "name": "stdout",
     "output_type": "stream",
     "text": [
      "Qual o número que eu pensei?5\n",
      "Você chutou muito alto, diminua sua aposta\n"
     ]
    }
   ],
   "source": [
    "def main():\n",
    "    #meu número é 4\n",
    "    chute_do_magico = int(input(\"Qual o número que eu pensei? \"))\n",
    "    \n",
    "    if chute_do_magico > 4:\n",
    "        print(\"Você chutou muito alto, diminua sua aposta\")\n",
    "    elif chute_do_magico < 4:\n",
    "        print(\"Você chutou muito baixo, diminua sua aposta\")\n",
    "    else:\n",
    "        print(\"Você acertou!\")\n",
    "\n",
    "main()"
   ]
  },
  {
   "cell_type": "code",
   "execution_count": null,
   "id": "a9286053",
   "metadata": {},
   "outputs": [],
   "source": [
    "def main():\n",
    "    #meu número é 4\n",
    "    chute_do_magico = int(input(\"Qual o número que eu pensei? \"))\n",
    "    \n",
    "    if chute_do_magico > 4:\n",
    "        print(\"Você chutou muito alto, diminua sua aposta\")\n",
    "    elif chute_do_magico < 4:\n",
    "        print(\"Você chutou muito baixo, diminua sua aposta\")\n",
    "    else:\n",
    "        print(\"Você acertou!\")\n",
    "\n",
    "main()"
   ]
  },
  {
   "cell_type": "code",
   "execution_count": null,
   "id": "e1bfaea8",
   "metadata": {},
   "outputs": [],
   "source": []
  }
 ],
 "metadata": {
  "kernelspec": {
   "display_name": "Python 3",
   "language": "python",
   "name": "python3"
  },
  "language_info": {
   "codemirror_mode": {
    "name": "ipython",
    "version": 3
   },
   "file_extension": ".py",
   "mimetype": "text/x-python",
   "name": "python",
   "nbconvert_exporter": "python",
   "pygments_lexer": "ipython3",
   "version": "3.8.8"
  }
 },
 "nbformat": 4,
 "nbformat_minor": 5
}
